{
 "cells": [
  {
   "cell_type": "markdown",
   "metadata": {
    "pycharm": {
     "name": "#%% md\n"
    }
   },
   "source": [
    "# Principal Filter Analysis (PFA): Compression Basic Example for MobileNet on CIFAR-10\n",
    "\n",
    "This notebook provides an example of how to apply [PFA](https://apple.github.io/dnikit/api/dnikit/introspectors.html#dnikit.introspectors.PFA) to a model (MobileNet) using data from CIFAR-10 and obtain the recipes that PFA recommends to follow in order to re-architect the network and obtain a smaller model while trying to preserve accuracy."
   ]
  },
  {
   "cell_type": "markdown",
   "metadata": {
    "pycharm": {
     "name": "#%% md\n"
    }
   },
   "source": [
    "## 1. Use DNIKit to run inference and collect responses from a model\n",
    "In order to run PFA, it's necessary to run inference using some data and collect the responses from the layers to analyze and compress. See the docs for more information about how to [load a model](https://apple.github.io/dnikit/how_to/connect_model.html) into DNIKit."
   ]
  },
  {
   "cell_type": "code",
   "execution_count": 1,
   "metadata": {
    "execution": {
     "iopub.execute_input": "2023-08-03T19:42:07.394480Z",
     "iopub.status.busy": "2023-08-03T19:42:07.394209Z",
     "iopub.status.idle": "2023-08-03T19:42:10.941828Z",
     "shell.execute_reply": "2023-08-03T19:42:10.941516Z"
    },
    "pycharm": {
     "name": "#%%\n"
    }
   },
   "outputs": [],
   "source": [
    "import pandas as pd\n",
    "\n",
    "from dnikit.base import pipeline, ImageFormat, ResponseInfo\n",
    "from dnikit_tensorflow import TFModelExamples, TFDatasetExamples\n",
    "from dnikit.processors import ImageResizer, Pooler\n",
    "\n",
    "from dnikit.exceptions import enable_deprecation_warnings\n",
    "enable_deprecation_warnings(error=True)  # treat DNIKit deprecation warnings as errors"
   ]
  },
  {
   "cell_type": "markdown",
   "metadata": {
    "pycharm": {
     "name": "#%% md\n"
    }
   },
   "source": [
    "### 1a. Download a model, MobileNet, and store it locally\n",
    "This will be the model to analyze with PFA. [TFModelExamples](https://apple.github.io/dnikit/api/dnikit_tensorflow/index.html#dnikit_tensorflow.TFModelExamples) are used to [load the model](https://apple.github.io/dnikit/how_to/connect_model.html), which loads the model from memory using [dnikit_tensorflow.load_tf_model_from_memory](https://apple.github.io/dnikit/api/dnikit/tensorflow.html#dnikit_tensorflow.load_tf_model_from_memory) under the hood."
   ]
  },
  {
   "cell_type": "code",
   "execution_count": 2,
   "metadata": {
    "execution": {
     "iopub.execute_input": "2023-08-03T19:42:10.994108Z",
     "iopub.status.busy": "2023-08-03T19:42:10.943585Z",
     "iopub.status.idle": "2023-08-03T19:42:11.942812Z",
     "shell.execute_reply": "2023-08-03T19:42:11.942506Z"
    }
   },
   "outputs": [
    {
     "name": "stderr",
     "output_type": "stream",
     "text": [
      "2023-08-03 12:42:11.000611: I metal_plugin/src/device/metal_device.cc:1154] Metal device set to: Apple M1 Pro\n",
      "2023-08-03 12:42:11.000632: I metal_plugin/src/device/metal_device.cc:296] systemMemory: 32.00 GB\n",
      "2023-08-03 12:42:11.000635: I metal_plugin/src/device/metal_device.cc:313] maxCacheSize: 10.67 GB\n",
      "2023-08-03 12:42:11.000665: I tensorflow/core/common_runtime/pluggable_device/pluggable_device_factory.cc:303] Could not identify NUMA node of platform GPU ID 0, defaulting to 0. Your kernel may not have been built with NUMA support.\n",
      "2023-08-03 12:42:11.000678: I tensorflow/core/common_runtime/pluggable_device/pluggable_device_factory.cc:269] Created TensorFlow device (/job:localhost/replica:0/task:0/device:GPU:0 with 0 MB memory) -> physical PluggableDevice (device: 0, name: METAL, pci bus id: <undefined>)\n"
     ]
    },
    {
     "name": "stdout",
     "output_type": "stream",
     "text": [
      "WARNING:tensorflow:Compiled the loaded model, but the compiled metrics have yet to be built. `model.compile_metrics` will be empty until you train or evaluate the model.\n"
     ]
    },
    {
     "name": "stderr",
     "output_type": "stream",
     "text": [
      "/private/tmp/dnikit-2.0.0/lib/python3.9/site-packages/keras/src/engine/training.py:3000: UserWarning: You are saving your model as an HDF5 file via `model.save()`. This file format is considered legacy. We recommend using instead the native Keras format, e.g. `model.save('my_model.keras')`.\n",
      "  saving_api.save_model(\n"
     ]
    }
   ],
   "source": [
    "# Load MobileNet\n",
    "mobilenet = TFModelExamples.MobileNet()"
   ]
  },
  {
   "cell_type": "markdown",
   "metadata": {
    "pycharm": {
     "name": "#%% md\n"
    }
   },
   "source": [
    "### 1.b Find input layers\n",
    "The name of the input placeholder is needed to tell DNIKit where data needs to be fed. The following loop shows how all layers can be filtered to find the Input name.\n",
    "\n",
    "The input name will be `input_1`, later this information will be used when inference is run."
   ]
  },
  {
   "cell_type": "code",
   "execution_count": 3,
   "metadata": {
    "execution": {
     "iopub.execute_input": "2023-08-03T19:42:11.944729Z",
     "iopub.status.busy": "2023-08-03T19:42:11.944610Z",
     "iopub.status.idle": "2023-08-03T19:42:11.946826Z",
     "shell.execute_reply": "2023-08-03T19:42:11.946542Z"
    },
    "pycharm": {
     "name": "#%%\n"
    }
   },
   "outputs": [
    {
     "name": "stdout",
     "output_type": "stream",
     "text": [
      "['input_1']\n"
     ]
    }
   ],
   "source": [
    "possible_input_layers = [\n",
    "    info.name\n",
    "    for info in mobilenet.response_infos.values()\n",
    "    if info.layer.kind is ResponseInfo.LayerKind.PLACEHOLDER\n",
    "    and 'input' in info.name\n",
    "]\n",
    "\n",
    "print(possible_input_layers)"
   ]
  },
  {
   "cell_type": "markdown",
   "metadata": {
    "pycharm": {
     "name": "#%% md\n"
    }
   },
   "source": [
    "### 1.c Find Convolution layers\n",
    "Similarly to the prior cell, here all layers are parsed in search of `Conv2D` layers. This is the set of layers that to analyze using PFA. If the list of names of the layers to analyze is already known, it can be passed directly to the loaded model (see step 1.f).\n",
    "\n",
    "Notice that the output layer (whose name is `conv_preds`) is excluded, since its size is determined by the number of classes of this problem."
   ]
  },
  {
   "cell_type": "code",
   "execution_count": 4,
   "metadata": {
    "execution": {
     "iopub.execute_input": "2023-08-03T19:42:11.948416Z",
     "iopub.status.busy": "2023-08-03T19:42:11.948314Z",
     "iopub.status.idle": "2023-08-03T19:42:11.950580Z",
     "shell.execute_reply": "2023-08-03T19:42:11.950345Z"
    },
    "pycharm": {
     "name": "#%%\n"
    }
   },
   "outputs": [
    {
     "name": "stdout",
     "output_type": "stream",
     "text": [
      "conv1 (Dimension(None), Dimension(112), Dimension(112), Dimension(32))\n",
      "conv_dw_1 (Dimension(None), Dimension(112), Dimension(112), Dimension(32))\n",
      "conv_pw_1 (Dimension(None), Dimension(112), Dimension(112), Dimension(64))\n",
      "conv_pad_2 (Dimension(None), Dimension(113), Dimension(113), Dimension(64))\n",
      "conv_dw_2 (Dimension(None), Dimension(56), Dimension(56), Dimension(64))\n",
      "conv_pw_2 (Dimension(None), Dimension(56), Dimension(56), Dimension(128))\n",
      "conv_dw_3 (Dimension(None), Dimension(56), Dimension(56), Dimension(128))\n",
      "conv_pw_3 (Dimension(None), Dimension(56), Dimension(56), Dimension(128))\n",
      "conv_pad_4 (Dimension(None), Dimension(57), Dimension(57), Dimension(128))\n",
      "conv_dw_4 (Dimension(None), Dimension(28), Dimension(28), Dimension(128))\n",
      "conv_pw_4 (Dimension(None), Dimension(28), Dimension(28), Dimension(256))\n",
      "conv_dw_5 (Dimension(None), Dimension(28), Dimension(28), Dimension(256))\n",
      "conv_pw_5 (Dimension(None), Dimension(28), Dimension(28), Dimension(256))\n",
      "conv_pad_6 (Dimension(None), Dimension(29), Dimension(29), Dimension(256))\n",
      "conv_dw_6 (Dimension(None), Dimension(14), Dimension(14), Dimension(256))\n",
      "conv_pw_6 (Dimension(None), Dimension(14), Dimension(14), Dimension(512))\n",
      "conv_dw_7 (Dimension(None), Dimension(14), Dimension(14), Dimension(512))\n",
      "conv_pw_7 (Dimension(None), Dimension(14), Dimension(14), Dimension(512))\n",
      "conv_dw_8 (Dimension(None), Dimension(14), Dimension(14), Dimension(512))\n",
      "conv_pw_8 (Dimension(None), Dimension(14), Dimension(14), Dimension(512))\n",
      "conv_dw_9 (Dimension(None), Dimension(14), Dimension(14), Dimension(512))\n",
      "conv_pw_9 (Dimension(None), Dimension(14), Dimension(14), Dimension(512))\n",
      "conv_dw_10 (Dimension(None), Dimension(14), Dimension(14), Dimension(512))\n",
      "conv_pw_10 (Dimension(None), Dimension(14), Dimension(14), Dimension(512))\n",
      "conv_dw_11 (Dimension(None), Dimension(14), Dimension(14), Dimension(512))\n",
      "conv_pw_11 (Dimension(None), Dimension(14), Dimension(14), Dimension(512))\n",
      "conv_pad_12 (Dimension(None), Dimension(15), Dimension(15), Dimension(512))\n",
      "conv_dw_12 (Dimension(None), Dimension(7), Dimension(7), Dimension(512))\n",
      "conv_pw_12 (Dimension(None), Dimension(7), Dimension(7), Dimension(1024))\n",
      "conv_dw_13 (Dimension(None), Dimension(7), Dimension(7), Dimension(1024))\n",
      "conv_pw_13 (Dimension(None), Dimension(7), Dimension(7), Dimension(1024))\n"
     ]
    }
   ],
   "source": [
    "conv2d_responses = [\n",
    "    info.name\n",
    "    for info in mobilenet.response_infos.values()\n",
    "    if info.layer.kind == ResponseInfo.LayerKind.CONV_2D\n",
    "    and 'preds' not in info.name\n",
    "]\n",
    "\n",
    "for name in conv2d_responses:\n",
    "    info = mobilenet.response_infos[name]\n",
    "    print(f\"{info.name} {info.shape}\")"
   ]
  },
  {
   "cell_type": "markdown",
   "metadata": {
    "pycharm": {
     "name": "#%% md\n"
    }
   },
   "source": [
    "### 1.d Create a DNI Dataset wrapping CIFAR-10\n",
    "Download CIFAR-10 data and only use 2000 images for the example, so inference is faster.\n",
    "\n",
    "In order to be able to use CIFAR-10 in DNIKit, it's necessary to wrap the data into a [Producer](https://apple.github.io/dnikit/api/dnikit/base.html#dnikit.base.Producer) (if these were normal images, [ImageProducer](https://apple.github.io/dnikit/api/dnikit/base.html#dnikit.base.ImageProducer) could be used with an input path).\n",
    "\n",
    "Moreover, MobileNet accepts images of size `224x224`, so the CIFAR-10 images need to be pre-processed by resizing them from `32x32` to `224x224`. DNIKit provides a set of processors in the module [dnikit.processors](https://apple.github.io/dnikit/api/dnikit/processors.html). [ImageResizer](https://apple.github.io/dnikit/api/dnikit/processors.html#dnikit.processors.ImageResizer) is used and passed into a new [pipeline](https://apple.github.io/dnikit/api/dnikit/base.html#dnikit.base.pipeline) that applies such pre-processing on top of CIFAR-10.\n",
    "\n",
    "**Note:** [TFDatasetExamples](https://apple.github.io/dnikit/api/dnikit_tensorflow/index.html#dnikit_tensorflow.TFDatasetExamples) are used here to load the data. To learn how to write a custom Producer that conforms to the [Producer](https://apple.github.io/dnikit/api/dnikit/base.html#dnikit.base.Producer) protocol, see [load data](https://apple.github.io/dnikit/how_to/connect_data.html) in the documentation."
   ]
  },
  {
   "cell_type": "code",
   "execution_count": 5,
   "metadata": {
    "execution": {
     "iopub.execute_input": "2023-08-03T19:42:11.952077Z",
     "iopub.status.busy": "2023-08-03T19:42:11.951967Z",
     "iopub.status.idle": "2023-08-03T19:42:12.112084Z",
     "shell.execute_reply": "2023-08-03T19:42:12.111770Z"
    },
    "pycharm": {
     "name": "#%%\n"
    }
   },
   "outputs": [],
   "source": [
    "# Load CIFAR10 from DNIKit's TF examples\n",
    "cifar10_dataset = TFDatasetExamples.CIFAR10(max_samples=2000)\n",
    "cifar10_dataset.shuffle()\n",
    "\n",
    "# Here, use the standard MobileNet preprocessor,\n",
    "# which was loaded into the \"preprocessor\" property when MobileNet was loaded:\n",
    "mobilenet_preprocessor = mobilenet.preprocessing\n",
    "assert mobilenet_preprocessor is not None\n",
    "\n",
    "# Next, define an ImageResizer to 224x224.\n",
    "resizer = ImageResizer(pixel_format=ImageFormat.HWC, size=(224, 224))\n",
    "\n",
    "# Wrap the dataset that was just created with preprocessors,\n",
    "# so DataBatches are pre-processed accordingly every time they are requested.\n",
    "dataset = pipeline(cifar10_dataset, mobilenet_preprocessor, resizer)"
   ]
  },
  {
   "cell_type": "markdown",
   "metadata": {
    "pycharm": {
     "name": "#%% md\n"
    }
   },
   "source": [
    "### 1.f Run inference\n",
    "Now run the data generated by the [pipeline](https://apple.github.io/dnikit/api/dnikit/base.html#dnikit.base.pipeline) and collect statistics regarding the activation of the units in the layers to analyze.\n",
    "\n",
    "Here is where it's important to know how to map the data field `\"images\"` from the `Batch` to the input of the network `\"input_1\"`. This mapping is done by the [FieldRenamer](https://apple.github.io/dnikit/api/dnikit/processors.html#dnikit.processors.FieldRenamer). This feeds into the `dnikit_model` defined earlier to perform inference.\n",
    "\n",
    "<img src=\"../assets/Inference.png\" width=\"400\">\n",
    "\n",
    "PFA expects data to be of the form (`number_of_samples` x `number_of_units`) for each layer. This means that the response obtained after inference needs to be post-processed. The typical post-processing operation used is max-pooling. This is the task performed using a DNIKit [Processor](https://apple.github.io/dnikit/api/dnikit/processors.html#dnikit.processors.Processor), specifically, a [Pooler](https://apple.github.io/dnikit/api/dnikit/processors.html#dnikit.processors.Pooler).\n",
    "\n",
    "<img src=\"../assets/Pooling.png\" width=\"400\">\n",
    "\n",
    "The inference and pooling steps are repeated for all input data and the pooled responses are collected.\n",
    "\n",
    "Note: although this section is titled \"run inference\", this actually defines *how* to run inference.  Until\n",
    "the data is pulled through the pipeline (later when PFA introspection is run). Inference is not actually *run* here."
   ]
  },
  {
   "cell_type": "code",
   "execution_count": 6,
   "metadata": {
    "execution": {
     "iopub.execute_input": "2023-08-03T19:42:12.113853Z",
     "iopub.status.busy": "2023-08-03T19:42:12.113762Z",
     "iopub.status.idle": "2023-08-03T19:42:12.116722Z",
     "shell.execute_reply": "2023-08-03T19:42:12.116479Z"
    },
    "pycharm": {
     "name": "#%%\n"
    }
   },
   "outputs": [],
   "source": [
    "from dnikit.processors import Pooler, FieldRenamer\n",
    "\n",
    "producer = pipeline(\n",
    "    # the resized images\n",
    "    dataset,\n",
    "\n",
    "    # the loaded tensorflow model -- tell the model which responses to collect (computed earlier)\n",
    "    mobilenet.model(conv2d_responses),\n",
    "\n",
    "    # perform spatial max pooling on the result\n",
    "    Pooler(dim=(1, 2), method=Pooler.Method.MAX),\n",
    ")\n"
   ]
  },
  {
   "cell_type": "markdown",
   "metadata": {
    "pycharm": {
     "name": "#%% md\n"
    }
   },
   "source": [
    "## 2. Run PFA introspection\n",
    "Notice that until this point the information has only been provided for DNIKit to load data, run inference, and post-process the responses, but nothing has happened yet. Only once the ``Introspector`` calls introspect will all the operations actually be executed.\n",
    "\n",
    "Notice also that if the responses were already stored somewhere, there would be no need to re-run inference and re-compute them. A [CachedProducer](https://apple.github.io/dnikit/api/dnikit/base.html#dnikit.base.CachedProducer) can load them from disk or a custom [Producer](https://apple.github.io/dnikit/api/dnikit/base.html#dnikit.base.Producer) can be written that loads the responses (and post-process them, if needed) and yields them (similar to how the images were loaded earlier).\n",
    "\n",
    "<img src=\"../assets/ResponseMatrix.png\" width=\"600\">\n",
    "\n",
    "Once all responses have been collected the covariance matrix of the pooled responses is computed per each layer. From the covariance matrix, also extract its eigenvalues. The next step will use them to understand how to compress each layer.\n",
    "\n",
    "<img src=\"../assets/Eigenvalues.png\" width=\"600\">"
   ]
  },
  {
   "cell_type": "code",
   "execution_count": 7,
   "metadata": {
    "execution": {
     "iopub.execute_input": "2023-08-03T19:42:12.118148Z",
     "iopub.status.busy": "2023-08-03T19:42:12.118045Z",
     "iopub.status.idle": "2023-08-03T19:47:54.643108Z",
     "shell.execute_reply": "2023-08-03T19:47:54.635177Z"
    },
    "pycharm": {
     "name": "#%%\n"
    }
   },
   "outputs": [
    {
     "name": "stdout",
     "output_type": "stream",
     "text": [
      "Analyzing responses, this may take a few minutes...\n"
     ]
    },
    {
     "name": "stdout",
     "output_type": "stream",
     "text": [
      "Done.\n"
     ]
    }
   ],
   "source": [
    "from dnikit.introspectors import PFA, PFARecipe\n",
    "\n",
    "# this runs the pipeline defined for producer and analyzes the results\n",
    "\n",
    "print('Analyzing responses, this may take a few minutes...')\n",
    "pfa = PFA.introspect(producer, batch_size=500)\n",
    "print('Done.')"
   ]
  },
  {
   "cell_type": "markdown",
   "metadata": {
    "pycharm": {
     "name": "#%% md\n"
    }
   },
   "source": [
    "## 3. PFA-Energy\n",
    "Now the key ingredient of PFA is computed: the eigenvalues. PFA provides three algorithms to compress a network: Energy, KL and Size. First, start with [PFA.Strategy.Energy](https://apple.github.io/dnikit/api/dnikit/introspectors.html#dnikit.introspectors.PFA.Strategy.Energy). The energy threshold tells PFA how much of the original energy to preserve. This involves computing how many eigenvalues should be kept in order to capture the desired amount of energy in each layer. In the following figure the energy threshold is set to 0.8 (i.e., 80% of the original energy) so, for each layer a different number of eigenvalues are selected so that their total energy amount to 80% of their original energy value.\n",
    "\n",
    "<img src=\"../assets/Energy.png\" width=\"400\">\n",
    "\n",
    "The result is a dictionary of response name to [PFARecipe](https://apple.github.io/dnikit/api/dnikit/introspectors.html#dnikit.introspectors.PFARecipe).  The recipe provides:\n",
    "- the original number of units;\n",
    "- the suggested number of units according to the current energy threshold;\n",
    "- additional diagnostics such as the actual energy level preserved.\n",
    "\n",
    "If there is insufficient data to compute the covariance, a layer may be omitted -- this can also queried via `pfa.failed_responses`.\n",
    "\n",
    "The `PFA.show` method is used to visualize the results, which produces, by default, a pandas DataFrame of the results. Here, specify which columns of the results to visualize and then add an additional column that defines the input energy level used, and concatenate the results of the two energy levels together into one dataframe."
   ]
  },
  {
   "cell_type": "code",
   "execution_count": 8,
   "metadata": {
    "execution": {
     "iopub.execute_input": "2023-08-03T19:47:54.771812Z",
     "iopub.status.busy": "2023-08-03T19:47:54.749760Z",
     "iopub.status.idle": "2023-08-03T19:48:04.031586Z",
     "shell.execute_reply": "2023-08-03T19:48:04.031293Z"
    },
    "pycharm": {
     "name": "#%%\n"
    }
   },
   "outputs": [
    {
     "name": "stdout",
     "output_type": "stream",
     "text": [
      "Done running PFA Energy\n",
      "   layer name  original count  recommended count  \\\n",
      "0  conv_pad_2              64                  6   \n",
      "1  conv_pad_4             128                 28   \n",
      "2       conv1              32                  4   \n",
      "3  conv_dw_13            1024                193   \n",
      "4   conv_dw_5             256                 58   \n",
      "\n",
      "                                       units to keep Energy  \n",
      "0                              {0, 1, 3, 41, 47, 62}    0.8  \n",
      "1  {0, 3, 5, 9, 14, 15, 22, 28, 29, 60, 62, 64, 7...    0.8  \n",
      "2                                     {17, 2, 5, 15}    0.8  \n",
      "3  {0, 3, 515, 7, 13, 529, 532, 24, 536, 26, 537,...    0.8  \n",
      "4  {2, 130, 4, 8, 9, 10, 136, 12, 17, 146, 23, 25...    0.8  \n"
     ]
    }
   ],
   "source": [
    "# produce a list of energy, layer, counts that can be examined\n",
    "\n",
    "# Run energy levels 0.8 and 0.99\n",
    "energy_8_recipes = pfa.get_recipe(\n",
    "    strategy=PFA.Strategy.Energy(energy_threshold=0.8, min_kept_count=3)\n",
    ")\n",
    "energy_99_recipes = pfa.get_recipe(\n",
    "    strategy=PFA.Strategy.Energy(energy_threshold=0.99, min_kept_count=3)\n",
    ")\n",
    "print(\"Done running PFA Energy\")\n",
    "\n",
    "# Display both results in the same data frame using PFA.show\n",
    "results_table = PFA.show((energy_8_recipes, energy_99_recipes))\n",
    "\n",
    "# Add a column to display the energy level\n",
    "results_table['Energy'] = ['0.8']*len(energy_8_recipes) + ['0.99']*len(energy_99_recipes)\n",
    "print(results_table.head())"
   ]
  },
  {
   "cell_type": "markdown",
   "metadata": {
    "pycharm": {
     "name": "#%% md\n"
    }
   },
   "source": [
    "## 4. PFA KL\n",
    "The KL strategy, a.k.a [PFA.Strategy.KL](https://apple.github.io/dnikit/api/dnikit/introspectors.html#dnikit.introspectors.PFA.Strategy.KL), is a recipe that does not require any user input parameter. The details of how this algorithm works are not needed to run PFA, however, here is a brief explanation. To understand how the recipe is computed it's important to understand what is the \"ideal\" eigenvalues set. If a user desires decorrelated and equally contributing units, then the empirical eigenvalue distribution should be flat: this means that all units should be preserved. The opposite scenario is when only a single eigenvalue is non-zero: this means that the same task can be performed equivalently well by a single unit.\n",
    "\n",
    "<img src=\"../assets/Eig_dist.png\" width=\"600\">\n",
    "\n",
    "In practice the observed distribution will be in-between the two extreme cases. In order to determine how many units should be kept given an observed distribution the \"distance\" (the Kullback-Leibler divergence, KL, in this case) between the observed and the ideal distribution is computed. If the distance is 0 then keep all the units. If the distance is equal to the distance between the maximally correlated and the ideal distribution then keep only 1 unit. In all the intermediate cases, interpolate between the two extremes in order to map a distance \"x\" to the number of units to keep \"b\".\n",
    "\n",
    "<img src=\"../assets/KL.png\" width=\"600\">"
   ]
  },
  {
   "cell_type": "code",
   "execution_count": 9,
   "metadata": {
    "execution": {
     "iopub.execute_input": "2023-08-03T19:48:04.034192Z",
     "iopub.status.busy": "2023-08-03T19:48:04.034069Z",
     "iopub.status.idle": "2023-08-03T19:48:05.690473Z",
     "shell.execute_reply": "2023-08-03T19:48:05.690139Z"
    },
    "pycharm": {
     "name": "#%%\n"
    }
   },
   "outputs": [
    {
     "name": "stdout",
     "output_type": "stream",
     "text": [
      "   layer name  original count  recommended count  \\\n",
      "0  conv_pad_2              64                 35   \n",
      "1  conv_pad_4             128                 93   \n",
      "2       conv1              32                 15   \n",
      "3  conv_dw_13            1024                802   \n",
      "4   conv_dw_5             256                192   \n",
      "\n",
      "                                       units to keep  \n",
      "0  {0, 1, 2, 3, 7, 8, 9, 11, 12, 14, 15, 17, 19, ...  \n",
      "1  {0, 1, 2, 3, 5, 6, 8, 9, 10, 11, 12, 13, 14, 1...  \n",
      "2  {1, 2, 5, 7, 10, 12, 13, 15, 17, 19, 22, 26, 2...  \n",
      "3  {0, 2, 3, 4, 5, 6, 7, 8, 9, 11, 13, 14, 16, 17...  \n",
      "4  {1, 2, 3, 4, 5, 6, 7, 8, 9, 10, 12, 14, 15, 16...  \n"
     ]
    }
   ],
   "source": [
    "# can also be written as pfa.get_recipe(strategy=PFA.Strategy.KL())\n",
    "pfa_kl_recipe = pfa.get_recipe()\n",
    "\n",
    "# Display kl recipe results\n",
    "print(PFA.show(pfa_kl_recipe).head())"
   ]
  },
  {
   "cell_type": "markdown",
   "metadata": {},
   "source": [
    "Note: to only show a subset of the information: \n",
    "\n",
    "1. select specific columns to include, or \n",
    "2. select all available information to show"
   ]
  },
  {
   "cell_type": "code",
   "execution_count": 10,
   "metadata": {
    "execution": {
     "iopub.execute_input": "2023-08-03T19:48:05.692486Z",
     "iopub.status.busy": "2023-08-03T19:48:05.692362Z",
     "iopub.status.idle": "2023-08-03T19:48:05.695798Z",
     "shell.execute_reply": "2023-08-03T19:48:05.695525Z"
    }
   },
   "outputs": [
    {
     "name": "stdout",
     "output_type": "stream",
     "text": [
      "   original count  recommended count\n",
      "0              64                 35\n",
      "1             128                 93\n",
      "2              32                 15\n",
      "3            1024                802\n",
      "4             256                192\n"
     ]
    }
   ],
   "source": [
    "# Select specific columns to include\n",
    "print(PFA.show(\n",
    "    pfa_kl_recipe,\n",
    "    include_columns=['layer_name', 'original count', 'recommended count']\n",
    ").head())"
   ]
  },
  {
   "cell_type": "code",
   "execution_count": 11,
   "metadata": {
    "execution": {
     "iopub.execute_input": "2023-08-03T19:48:05.697266Z",
     "iopub.status.busy": "2023-08-03T19:48:05.697160Z",
     "iopub.status.idle": "2023-08-03T19:48:05.702639Z",
     "shell.execute_reply": "2023-08-03T19:48:05.702374Z"
    }
   },
   "outputs": [
    {
     "name": "stdout",
     "output_type": "stream",
     "text": [
      "   layer name  original count  recommended count  \\\n",
      "0  conv_pad_2              64                 35   \n",
      "1  conv_pad_4             128                 93   \n",
      "2       conv1              32                 15   \n",
      "3  conv_dw_13            1024                802   \n",
      "4   conv_dw_5             256                192   \n",
      "\n",
      "                                       units to keep  KL divergence  \\\n",
      "0  {0, 1, 2, 3, 7, 8, 9, 11, 12, 14, 15, 17, 19, ...       1.898266   \n",
      "1  {0, 1, 2, 3, 5, 6, 8, 9, 10, 11, 12, 13, 14, 1...       1.351204   \n",
      "2  {1, 2, 5, 7, 10, 12, 13, 15, 17, 19, 22, 26, 2...       1.907966   \n",
      "3  {0, 2, 3, 4, 5, 6, 7, 8, 9, 11, 13, 14, 16, 17...       1.506620   \n",
      "4  {1, 2, 3, 4, 5, 6, 7, 8, 9, 10, 12, 14, 15, 16...       1.407504   \n",
      "\n",
      "  PFA strategy  units ratio kept energy  \n",
      "0       PFA KL     0.543563         N/A  \n",
      "1       PFA KL     0.721518         N/A  \n",
      "2       PFA KL     0.449477         N/A  \n",
      "3       PFA KL     0.782641         N/A  \n",
      "4       PFA KL     0.746175         N/A  \n"
     ]
    }
   ],
   "source": [
    "# Show all data by setting 'include_columns' to '[]'\n",
    "print(PFA.show(\n",
    "    pfa_kl_recipe,\n",
    "    include_columns=[]\n",
    ").head())"
   ]
  },
  {
   "cell_type": "markdown",
   "metadata": {},
   "source": [
    "Note: `print` is unnecessary in the preceding cells. E.g.:\n",
    "\n",
    "```\n",
    "PFA.show(\n",
    "    pfa_kl_recipe,\n",
    "    include_columns=[]\n",
    ")\n",
    "```\n",
    "\n",
    "Is also appropriate. `print` is included to assist with displaying the notebook output within the DNIKit documentation."
   ]
  },
  {
   "cell_type": "markdown",
   "metadata": {
    "pycharm": {
     "name": "#%% md\n"
    }
   },
   "source": [
    "## Unit Selection\n",
    "The recipes computed earlier specify how many units each analyzed layer should have and provide some\n",
    "additional diagnostic information that could be useful for introspection.\n",
    "\n",
    "Something they do not provide is *which* units should be kept and which should be removed. This task is performed by the *unit selection* strategy.\n",
    "\n",
    "Again, the details of how these algorithms work are not needed to run PFA with unit selection, however, here is a brief explanation.\n",
    "\n",
    "All unit selection strategies are based on the Pearson's correlation coefficients that can be extracted from the covariance matrix computed before. The Pearson's correlation coefficients provide a measure of the strength of the linear relationship between pairs of variables (in this case pairs of units): the higher the coefficient the stronger the correlation.\n",
    "\n",
    "<img src=\"../assets/pearsons.png\" width=\"700\">\n",
    "\n",
    "PFA is equipped with a few strategies but here two of them are explored: [`AbsMax`](https://apple.github.io/dnikit/api/dnikit/introspectors.html#dnikit.introspectors.PFA.UnitSelectionStrategy.AbsMax) and [`L1Max](https://apple.github.io/dnikit/api/dnikit/introspectors.html#dnikit.introspectors.PFA.UnitSelectionStrategy.L1Max)."
   ]
  },
  {
   "cell_type": "code",
   "execution_count": 12,
   "metadata": {
    "execution": {
     "iopub.execute_input": "2023-08-03T19:48:05.704159Z",
     "iopub.status.busy": "2023-08-03T19:48:05.704051Z",
     "iopub.status.idle": "2023-08-03T19:48:23.431861Z",
     "shell.execute_reply": "2023-08-03T19:48:23.431562Z"
    },
    "pycharm": {
     "name": "#%%\n"
    }
   },
   "outputs": [
    {
     "name": "stdout",
     "output_type": "stream",
     "text": [
      "Starting selection. This may take several seconds\n"
     ]
    },
    {
     "name": "stdout",
     "output_type": "stream",
     "text": [
      "   layer name  original count  recommended count  \\\n",
      "0  conv_pad_2              64                 35   \n",
      "1  conv_pad_4             128                 93   \n",
      "2       conv1              32                 15   \n",
      "3  conv_dw_13            1024                802   \n",
      "4   conv_dw_5             256                192   \n",
      "\n",
      "                                       units to keep strategy  \n",
      "0  {0, 1, 2, 5, 7, 9, 11, 12, 15, 16, 17, 19, 23,...  ABS MAX  \n",
      "1  {0, 1, 2, 5, 6, 8, 9, 10, 11, 13, 14, 15, 17, ...  ABS MAX  \n",
      "2  {1, 2, 5, 6, 9, 10, 13, 22, 23, 24, 25, 26, 27...  ABS MAX  \n",
      "3  {2, 3, 4, 5, 6, 8, 9, 11, 12, 13, 14, 15, 16, ...  ABS MAX  \n",
      "4  {0, 1, 2, 3, 4, 5, 8, 9, 10, 11, 12, 15, 16, 1...  ABS MAX  \n"
     ]
    }
   ],
   "source": [
    "print(\"Starting selection. This may take several seconds\")\n",
    "\n",
    "# Run two strategies, AbsMax and L1Max\n",
    "abs_max_recipes = pfa.get_recipe(unit_strategy=PFA.UnitSelectionStrategy.AbsMax())\n",
    "l1_max_recipes = pfa.get_recipe(unit_strategy=PFA.UnitSelectionStrategy.L1Max())\n",
    "\n",
    "# Display results via pandas dataframe + add strategy column\n",
    "results_table = PFA.show((abs_max_recipes, l1_max_recipes))\n",
    "results_table['strategy'] = ['ABS MAX']*len(abs_max_recipes) + ['L1 MAX']*len(l1_max_recipes)\n",
    "print(results_table.head())"
   ]
  },
  {
   "cell_type": "markdown",
   "metadata": {
    "pycharm": {
     "name": "#%% md\n"
    }
   },
   "source": [
    "### AbsMax\n",
    "The [PFA.UnitSelectionStrategy.AbsMax](https://apple.github.io/dnikit/api/dnikit/introspectors.html#dnikit.introspectors.PFA.UnitSelectionStrategy.AbsMax) strategy iteratively selects the pair of units with the highest correlation coefficients (in absolute value). In order to disambiguate which unit of the selected pair should be removed, look at the second, third, etc... coefficients until a choice can be made. Remove the unit from the covariance, recompute the coefficients and repeat until the number of units recommended by the recipe is reached.\n",
    "<img src=\"../assets/max.png\" width=\"700\">\n",
    "\n",
    "### L1-MAX\n",
    "The [PFA.UnitSelectionStrategy.L1Max](https://apple.github.io/dnikit/api/dnikit/introspectors.html#dnikit.introspectors.PFA.UnitSelectionStrategy.L1Max) strategy iteratively selects the unit with the highest sum of all its correlation coefficients. Remove the unit from the covariance, recompute the coefficients and repeat until the number of units recommended by the recipe is reached.\n",
    "<img src=\"../assets/l1.png\" width=\"500\">"
   ]
  },
  {
   "cell_type": "markdown",
   "metadata": {},
   "source": [
    "## Visualization\n",
    "\n",
    "As a wrap up, take a look at the compression achieved using, for example, PFA KL.\n",
    "\n",
    "Here is a plot with the number of units per layer for the original model and the compressed one. The figure shows the amount of compression per layer recommended by PFA.\n",
    "\n",
    "Interestingly, layer ``conv_pw_11`` gets compressed a lot compared to other layers, meaning that a high amount of correlation is present in that layer. Keep in mind that only 2,000 images out of 50,000 were used. An interesting experiment (encouraged) is to increase the number of images, or just feed images from a single class, in order to get more insights from PFA.\n",
    "\n",
    "*Hint: By feeding images of only one class one should expect higher compression*.\n",
    "\n",
    "This matplotlib plot can be viewed using ``PFA.show``, with added parameter ``vis_type`` set to ``PFA.VisType.CHART`` instead of the default ``PFA.VisType.TABLE``."
   ]
  },
  {
   "cell_type": "code",
   "execution_count": 13,
   "metadata": {
    "execution": {
     "iopub.execute_input": "2023-08-03T19:48:23.434033Z",
     "iopub.status.busy": "2023-08-03T19:48:23.433920Z",
     "iopub.status.idle": "2023-08-03T19:48:23.685185Z",
     "shell.execute_reply": "2023-08-03T19:48:23.684884Z"
    },
    "scrolled": false
   },
   "outputs": [
    {
     "data": {
      "text/plain": [
       "<Axes: xlabel='layer name', ylabel='number of units'>"
      ]
     },
     "execution_count": 13,
     "metadata": {},
     "output_type": "execute_result"
    },
    {
     "data": {
      "image/png": "[encoded data removed]",
      "text/plain": [
       "<Figure size 1500x600 with 1 Axes>"
      ]
     },
     "metadata": {},
     "output_type": "display_data"
    }
   ],
   "source": [
    "PFA.show(pfa_kl_recipe, vis_type=PFA.VisType.CHART)"
   ]
  },
  {
   "cell_type": "code",
   "execution_count": null,
   "metadata": {},
   "outputs": [],
   "source": []
  }
 ],
 "metadata": {
  "finalized": {
   "timestamp": 1659463479162,
   "trusted": true
  },
  "kernelspec": {
   "display_name": "Python 3 (ipykernel)",
   "language": "python",
   "name": "python3"
  },
  "language_info": {
   "codemirror_mode": {
    "name": "ipython",
    "version": 3
   },
   "file_extension": ".py",
   "mimetype": "text/x-python",
   "name": "python",
   "nbconvert_exporter": "python",
   "pygments_lexer": "ipython3",
   "version": "3.9.11"
  },
  "require": {
   "paths": {
    "buttons.colvis": "https://cdn.datatables.net/buttons/1.5.6/js/buttons.colVis.min",
    "buttons.flash": "https://cdn.datatables.net/buttons/1.5.6/js/buttons.flash.min",
    "buttons.html5": "https://cdn.datatables.net/buttons/1.5.6/js/buttons.html5.min",
    "buttons.print": "https://cdn.datatables.net/buttons/1.5.6/js/buttons.print.min",
    "chartjs": "https://cdnjs.cloudflare.com/ajax/libs/Chart.js/2.8.0/Chart",
    "d3": "https://d3js.org/d3.v5.min",
    "d3-array": "https://d3js.org/d3-array.v2.min",
    "datatables.net": "https://cdn.datatables.net/1.10.18/js/jquery.dataTables",
    "datatables.net-buttons": "https://cdn.datatables.net/buttons/1.5.6/js/dataTables.buttons.min",
    "datatables.responsive": "https://cdn.datatables.net/responsive/2.2.2/js/dataTables.responsive.min",
    "datatables.scroller": "https://cdn.datatables.net/scroller/2.0.0/js/dataTables.scroller.min",
    "datatables.select": "https://cdn.datatables.net/select/1.3.0/js/dataTables.select.min",
    "jszip": "https://cdnjs.cloudflare.com/ajax/libs/jszip/2.5.0/jszip.min",
    "moment": "https://cdnjs.cloudflare.com/ajax/libs/moment.js/2.8.0/moment",
    "pdfmake": "https://cdnjs.cloudflare.com/ajax/libs/pdfmake/0.1.36/pdfmake.min",
    "vfsfonts": "https://cdnjs.cloudflare.com/ajax/libs/pdfmake/0.1.36/vfs_fonts"
   },
   "shim": {
    "buttons.colvis": {
     "deps": [
      "jszip",
      "datatables.net-buttons"
     ]
    },
    "buttons.flash": {
     "deps": [
      "jszip",
      "datatables.net-buttons"
     ]
    },
    "buttons.html5": {
     "deps": [
      "jszip",
      "datatables.net-buttons"
     ]
    },
    "buttons.print": {
     "deps": [
      "jszip",
      "datatables.net-buttons"
     ]
    },
    "chartjs": {
     "deps": [
      "moment"
     ]
    },
    "datatables.net": {
     "exports": "$.fn.dataTable"
    },
    "datatables.net-buttons": {
     "deps": [
      "datatables.net"
     ]
    },
    "pdfmake": {
     "deps": [
      "datatables.net"
     ]
    },
    "vfsfonts": {
     "deps": [
      "datatables.net"
     ]
    }
   }
  }
 },
 "nbformat": 4,
 "nbformat_minor": 2
}
